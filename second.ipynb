{
 "cells": [
  {
   "cell_type": "code",
   "execution_count": 2,
   "metadata": {},
   "outputs": [],
   "source": [
    "import requests\n",
    "import numpy as np\n",
    "import pandas as pd\n",
    "import bs4 "
   ]
  },
  {
   "cell_type": "code",
   "execution_count": 74,
   "metadata": {},
   "outputs": [],
   "source": [
    "data = requests.get(\"https://www.darshan.ac.in/placement/list/engineering/computer/2023\")\n",
    "soup = bs4.BeautifulSoup(data.text, 'html.parser')\n",
    "allstudents = soup.select(\"body > main > div:nth-child(5) > div > div > div.col-lg-8.col-xl-9.g-font-size-14.g-mb-30 > div.g-pt-20 > div.row.g-px-4.g-px-5--sm.g-px-5--md > div\")"
   ]
  },
  {
   "cell_type": "code",
   "execution_count": 38,
   "metadata": {},
   "outputs": [
    {
     "name": "stdout",
     "output_type": "stream",
     "text": [
      "144\n",
      "KATHANLUNAGARIYA\n",
      "YASHRATHOD\n"
     ]
    }
   ],
   "source": [
    "print(len(soup.select(\"h2\")))#got the lenth of student name\n",
    "print(soup.select(\"h2\")[1].text.strip())#got the firststudent\n",
    "print(soup.select(\"h2\")[139].text.strip())#got the last student"
   ]
  },
  {
   "cell_type": "code",
   "execution_count": 115,
   "metadata": {},
   "outputs": [
    {
     "name": "stdout",
     "output_type": "stream",
     "text": [
      "1\n"
     ]
    }
   ],
   "source": [
    "# All the student names\n",
    "# for i in range(1,140):\n",
    "#     print(soup.select(\"h2\")[i].text.strip())\n",
    "print(len(soup.select(\"body > main > div:nth-child(5) > div > div > div.col-lg-8.col-xl-9.g-font-size-14.g-mb-30 > div.g-pt-20 > div.row.g-px-4.g-px-5--sm.g-px-5--md > div:nth-child(139) > article > div > p.g-color-gray-dark-v4.g-font-weight-500.g-font-size-15.g-mb-0.g-font-code\")))"
   ]
  },
  {
   "cell_type": "code",
   "execution_count": 116,
   "metadata": {},
   "outputs": [
    {
     "data": {
      "text/plain": [
       "['190540107121',\n",
       " '190540107007',\n",
       " '190540107085',\n",
       " '190540107030',\n",
       " '190540107005',\n",
       " '190540107106',\n",
       " '190540107181',\n",
       " '190540107116',\n",
       " '200540107516',\n",
       " '190540107171',\n",
       " '190540107148',\n",
       " '200540107523',\n",
       " '190540107109',\n",
       " '200540107519',\n",
       " '200540107520',\n",
       " '190540107032',\n",
       " '190540107209',\n",
       " '190540107001',\n",
       " '190540107064',\n",
       " '190540107014',\n",
       " '190540107092',\n",
       " '190540107102',\n",
       " '190540107222',\n",
       " '190540107043',\n",
       " '190540107214',\n",
       " '190540107008',\n",
       " '190540107186',\n",
       " '190540107068',\n",
       " '190540107200',\n",
       " '190540107018',\n",
       " '200540107517',\n",
       " '190540107117',\n",
       " '190540107165',\n",
       " '200540107504',\n",
       " '190540107190',\n",
       " '190540107173',\n",
       " '190540107128',\n",
       " '190540107060',\n",
       " '190540107039',\n",
       " '190540107070',\n",
       " '190540107149',\n",
       " '190540107118',\n",
       " '190540107187',\n",
       " '190540107057',\n",
       " '190540107036',\n",
       " '190540107174',\n",
       " '190540107097',\n",
       " '190540107136',\n",
       " '190540107124',\n",
       " '190540107197',\n",
       " '190540107137',\n",
       " '190540107138',\n",
       " '190540107079',\n",
       " '190540107120',\n",
       " '190540107167',\n",
       " '200540107510',\n",
       " '190540107146',\n",
       " '190540107153',\n",
       " '190540107073',\n",
       " '190540107139',\n",
       " '190540107108',\n",
       " '190540107180',\n",
       " '190540107135',\n",
       " '190540107048',\n",
       " '190540107131',\n",
       " '190540107011',\n",
       " '190540107029',\n",
       " '190540107010',\n",
       " '190540107189',\n",
       " '190540107067',\n",
       " '200540107507',\n",
       " '190544107001',\n",
       " '190540107143',\n",
       " '200540107512',\n",
       " '190540107198',\n",
       " '190540107169',\n",
       " '190540107069',\n",
       " '190540107114',\n",
       " '190540107199',\n",
       " '190540107213',\n",
       " '190540107051',\n",
       " '200540107518',\n",
       " '190540107002',\n",
       " '200540107522',\n",
       " '190540107037',\n",
       " '190540107083',\n",
       " '190540107129',\n",
       " '190540107144',\n",
       " '190540107206',\n",
       " '200540107503',\n",
       " '200540107506',\n",
       " '200540107513',\n",
       " '190540107021',\n",
       " '190540107046',\n",
       " '190540107089',\n",
       " '190540107107',\n",
       " '200540107521',\n",
       " '190540107134',\n",
       " '190540107041',\n",
       " '190540107141',\n",
       " '190540107031',\n",
       " '190540107049',\n",
       " '190540107012',\n",
       " '190540107091',\n",
       " '190540107147',\n",
       " '190540107096',\n",
       " '190540107220',\n",
       " '200540107505',\n",
       " '190540107087',\n",
       " '190540107103',\n",
       " '190540107050',\n",
       " '190540107063',\n",
       " '190540107072',\n",
       " '190540107098',\n",
       " '190540107100',\n",
       " '190540107111',\n",
       " '190540107155',\n",
       " '190540107168',\n",
       " '190540107170',\n",
       " '19054010721',\n",
       " '190540107183',\n",
       " '190540107179',\n",
       " '190540107202',\n",
       " '200540107508',\n",
       " '190540107023',\n",
       " '190540107159',\n",
       " '190540107094',\n",
       " '190540107215',\n",
       " '190540107078',\n",
       " '190540107017',\n",
       " '200540107501',\n",
       " '190540107205',\n",
       " '190540107045',\n",
       " '190540107053',\n",
       " '190540107054',\n",
       " '190540107040',\n",
       " '190540107221',\n",
       " '190540107163',\n",
       " '200540107524']"
      ]
     },
     "execution_count": 116,
     "metadata": {},
     "output_type": "execute_result"
    }
   ],
   "source": [
    "x = []\n",
    "for i in range(1,140):\n",
    "    a = soup.select(f'body > main > div:nth-child(5) > div > div > div.col-lg-8.col-xl-9.g-font-size-14.g-mb-30 > div.g-pt-20 > div.row.g-px-4.g-px-5--sm.g-px-5--md > div:nth-child({i}) > article > div > p.g-color-gray-dark-v4.g-font-weight-500.g-font-size-15.g-mb-0.g-font-code')[0].text.strip()\n",
    "    x.append(a)\n",
    "x"
   ]
  },
  {
   "cell_type": "code",
   "execution_count": 98,
   "metadata": {},
   "outputs": [
    {
     "data": {
      "text/plain": [
       "[<p class=\"g-color-gray-dark-v4 g-font-weight-500 g-font-size-15 g-mb-0 g-font-code\">\n",
       "                                             190540107121\n",
       "                                         </p>]"
      ]
     },
     "execution_count": 98,
     "metadata": {},
     "output_type": "execute_result"
    }
   ],
   "source": [
    "soup.select(f'body > main > div:nth-child(5) > div > div > div.col-lg-8.col-xl-9.g-font-size-14.g-mb-30 > div.g-pt-20 > div.row.g-px-4.g-px-5--sm.g-px-5--md > div:nth-child(1) > article > div > p.g-color-gray-dark-v4.g-font-weight-500.g-font-size-15.g-mb-0.g-font-code')"
   ]
  }
 ],
 "metadata": {
  "kernelspec": {
   "display_name": "Python 3.9.7 64-bit",
   "language": "python",
   "name": "python3"
  },
  "language_info": {
   "codemirror_mode": {
    "name": "ipython",
    "version": 3
   },
   "file_extension": ".py",
   "mimetype": "text/x-python",
   "name": "python",
   "nbconvert_exporter": "python",
   "pygments_lexer": "ipython3",
   "version": "3.9.7"
  },
  "orig_nbformat": 4,
  "vscode": {
   "interpreter": {
    "hash": "244588f31c2a3ad07c22725603babad300eb2184cbcfe75a54eeec84a711f05a"
   }
  }
 },
 "nbformat": 4,
 "nbformat_minor": 2
}
