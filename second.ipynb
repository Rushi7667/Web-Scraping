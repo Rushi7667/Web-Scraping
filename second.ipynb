{
 "cells": [
  {
   "cell_type": "code",
   "execution_count": 1,
   "metadata": {},
   "outputs": [],
   "source": [
    "import requests\n",
    "import numpy as np\n",
    "import pandas as pd\n",
    "import bs4 "
   ]
  },
  {
   "cell_type": "code",
   "execution_count": 2,
   "metadata": {},
   "outputs": [],
   "source": [
    "data = requests.get(\"https://www.darshan.ac.in/placement/list/engineering/computer/2023\")\n",
    "soup = bs4.BeautifulSoup(data.text, 'html.parser')\n",
    "allstudents = soup.select(\"body > main > div:nth-child(5) > div > div > div.col-lg-8.col-xl-9.g-font-size-14.g-mb-30 > div.g-pt-20 > div.row.g-px-4.g-px-5--sm.g-px-5--md > div\")"
   ]
  },
  {
   "cell_type": "code",
   "execution_count": 3,
   "metadata": {},
   "outputs": [
    {
     "name": "stdout",
     "output_type": "stream",
     "text": [
      "144\n",
      "KATHANLUNAGARIYA\n",
      "YASHRATHOD\n"
     ]
    }
   ],
   "source": [
    "print(len(soup.select(\"h2\")))#got the lenth of student name\n",
    "print(soup.select(\"h2\")[1].text.strip())#got the firststudent\n",
    "print(soup.select(\"h2\")[139].text.strip())#got the last student"
   ]
  },
  {
   "cell_type": "code",
   "execution_count": 49,
   "metadata": {},
   "outputs": [
    {
     "data": {
      "text/plain": [
       "['20.00 Lac',\n",
       " '10.00 Lac',\n",
       " '8.00-9.00 Lac',\n",
       " '8.00-9.00 Lac',\n",
       " '8.00-9.00 Lac',\n",
       " '6.00-7.00 Lac',\n",
       " '6.00-7.00 Lac',\n",
       " '6.00-7.00 Lac',\n",
       " '6.00-7.00 Lac',\n",
       " '6.00-7.00 Lac',\n",
       " '6.00-7.00 Lac',\n",
       " '6.00 Lac',\n",
       " '4.80 Lac',\n",
       " '4.80 Lac',\n",
       " '4.80 Lac',\n",
       " '4.80 Lac',\n",
       " '4.80 Lac',\n",
       " '4.80 Lac',\n",
       " '4.80 Lac',\n",
       " '4.32 - 4.80 Lac',\n",
       " '4.32 - 4.80 Lac',\n",
       " '4.32 - 4.80 Lac',\n",
       " '4.32 - 4.80 Lac',\n",
       " '4.32 - 4.80 Lac',\n",
       " '4.50 Lac',\n",
       " '4.50 Lac',\n",
       " '4.50 Lac',\n",
       " '4.50 Lac',\n",
       " '4.50 Lac',\n",
       " '4.50 Lac',\n",
       " '4.20 Lac',\n",
       " '4.20 Lac',\n",
       " '4.20 Lac',\n",
       " '4.20 Lac',\n",
       " '4.20 Lac',\n",
       " '4.20 Lac',\n",
       " '4.20 Lac',\n",
       " '4.20 Lac',\n",
       " '4.20 Lac',\n",
       " '4.20 Lac',\n",
       " '4.20 Lac',\n",
       " '4.20 Lac',\n",
       " '4.20 Lac',\n",
       " '4.20 Lac',\n",
       " '4.20 Lac',\n",
       " '4.20 Lac',\n",
       " '4.20 Lac',\n",
       " '4.20 Lac',\n",
       " '4.20 Lac',\n",
       " '4.20 Lac',\n",
       " '4.20 Lac',\n",
       " '4.20 Lac',\n",
       " '4.20 Lac',\n",
       " '4.20 Lac',\n",
       " '4.00 Lac',\n",
       " '4.00 Lac',\n",
       " '4.00 Lac',\n",
       " '4.00 Lac',\n",
       " '4.00 Lac',\n",
       " '4.00 Lac',\n",
       " '4.00 Lac',\n",
       " '4.00 Lac',\n",
       " '4.00 Lac',\n",
       " '4.00 Lac',\n",
       " '4.00 Lac',\n",
       " '4.00 Lac',\n",
       " '4.00 Lac',\n",
       " '4.00 Lac',\n",
       " '4.00 Lac',\n",
       " '3.50-4.50 Lac',\n",
       " '3.50-4.50 Lac',\n",
       " '4.00 Lac',\n",
       " '4.00 Lac',\n",
       " '4.00 Lac',\n",
       " '4.00 Lac',\n",
       " '4.00 Lac',\n",
       " '4.00 Lac',\n",
       " '4.00 Lac',\n",
       " '4.00 Lac',\n",
       " '4.00 Lac',\n",
       " '4.00 Lac',\n",
       " '4.00 Lac',\n",
       " '4.00 Lac',\n",
       " '4.00 Lac',\n",
       " '4.00 Lac',\n",
       " '3.00-5.00 Lac',\n",
       " '3.00-5.00 Lac',\n",
       " '3.00-5.00 Lac',\n",
       " '3.00-5.00 Lac',\n",
       " '3.00-5.00 Lac',\n",
       " '3.00-5.00 Lac',\n",
       " '3.00-5.00 Lac',\n",
       " '4.00 Lac',\n",
       " '4.00 Lac',\n",
       " '3.00-4.80 Lac',\n",
       " '3.84 Lac',\n",
       " '3.60-4.00 Lac',\n",
       " '3.50 - 4.00 Lac',\n",
       " '3.50 - 4.00 Lac',\n",
       " '3.50 - 4.00 Lac',\n",
       " '3.50 - 4.00 Lac',\n",
       " '3.50 - 4.00 Lac',\n",
       " '3.50 - 4.00 Lac',\n",
       " '3.50 - 4.00 Lac',\n",
       " '3.50 - 4.00 Lac',\n",
       " '3.72 Lac',\n",
       " '3.60 Lac',\n",
       " '3.60 Lac',\n",
       " '3.60 Lac',\n",
       " '3.60 Lac',\n",
       " '3.50 Lac',\n",
       " '3.50 Lac',\n",
       " '3.50 Lac',\n",
       " '3.50 Lac',\n",
       " '3.50 Lac',\n",
       " '3.50 Lac',\n",
       " '3.50 Lac',\n",
       " '3.50 Lac',\n",
       " '3.50 Lac',\n",
       " '3.50 Lac',\n",
       " '3.50 Lac',\n",
       " '3.50 Lac',\n",
       " '3.00-3.50 Lac',\n",
       " '3.00 Lac',\n",
       " '3.00 Lac',\n",
       " '3.00 Lac',\n",
       " '3.00 Lac',\n",
       " '3.00 Lac',\n",
       " '3.00 Lac',\n",
       " '3.00 Lac',\n",
       " '3.00 Lac',\n",
       " '3.00 Lac',\n",
       " 'Confidential',\n",
       " 'Confidential',\n",
       " 'Confidential',\n",
       " 'Confidential',\n",
       " '2.64 Lac',\n",
       " '2.64 Lac',\n",
       " '']"
      ]
     },
     "execution_count": 49,
     "metadata": {},
     "output_type": "execute_result"
    }
   ],
   "source": [
    "# Creating the array of placement\n",
    "placement = []\n",
    "for i in range(19,298):# starting from 19 \n",
    "    if i%2==0: # studentdata is on even place \n",
    "        a = soup.select(\"span\")[i].text.strip()\n",
    "        placement.append(a)\n",
    "placement"
   ]
  },
  {
   "cell_type": "code",
   "execution_count": 4,
   "metadata": {},
   "outputs": [],
   "source": [
    "# # All the student names\n",
    "# names = []\n",
    "# for i in range(1,140):\n",
    "#     a = soup.select(\"h2\")[i].text.strip()\n",
    "#     names.append(a)\n",
    "# names"
   ]
  },
  {
   "cell_type": "code",
   "execution_count": 5,
   "metadata": {},
   "outputs": [],
   "source": [
    "# print(len(soup.select(\"body > main > div:nth-child(5) > div > div > div.col-lg-8.col-xl-9.g-font-size-14.g-mb-30 > div.g-pt-20 > div.row.g-px-4.g-px-5--sm.g-px-5--md > div:nth-child(139) > article > div > p.g-color-gray-dark-v4.g-font-weight-500.g-font-size-15.g-mb-0.g-font-code\")))"
   ]
  },
  {
   "cell_type": "code",
   "execution_count": 6,
   "metadata": {},
   "outputs": [],
   "source": [
    "# x = []\n",
    "# for i in range(1,140):\n",
    "#     a = soup.select(f'body > main > div:nth-child(5) > div > div > div.col-lg-8.col-xl-9.g-font-size-14.g-mb-30 > div.g-pt-20 > div.row.g-px-4.g-px-5--sm.g-px-5--md > div:nth-child({i}) > article > div > p.g-color-gray-dark-v4.g-font-weight-500.g-font-size-15.g-mb-0.g-font-code')[0].text.strip()\n",
    "#     x.append(a)\n",
    "# x"
   ]
  },
  {
   "cell_type": "code",
   "execution_count": 7,
   "metadata": {},
   "outputs": [],
   "source": [
    "# soup.select(f'body > main > div:nth-child(5) > div > div > div.col-lg-8.col-xl-9.g-font-size-14.g-mb-30 > div.g-pt-20 > div.row.g-px-4.g-px-5--sm.g-px-5--md > div:nth-child(1) > article > div > p.g-color-gray-dark-v4.g-font-weight-500.g-font-size-15.g-mb-0.g-font-code')"
   ]
  }
 ],
 "metadata": {
  "kernelspec": {
   "display_name": "Python 3.9.7 64-bit",
   "language": "python",
   "name": "python3"
  },
  "language_info": {
   "codemirror_mode": {
    "name": "ipython",
    "version": 3
   },
   "file_extension": ".py",
   "mimetype": "text/x-python",
   "name": "python",
   "nbconvert_exporter": "python",
   "pygments_lexer": "ipython3",
   "version": "3.9.7"
  },
  "orig_nbformat": 4,
  "vscode": {
   "interpreter": {
    "hash": "244588f31c2a3ad07c22725603babad300eb2184cbcfe75a54eeec84a711f05a"
   }
  }
 },
 "nbformat": 4,
 "nbformat_minor": 2
}
