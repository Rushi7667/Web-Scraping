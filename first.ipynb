{
 "cells": [
  {
   "cell_type": "code",
   "execution_count": 49,
   "metadata": {},
   "outputs": [],
   "source": [
    "import requests\n",
    "import bs4\n",
    "import pandas as pd\n",
    "import numpy as np"
   ]
  },
  {
   "cell_type": "code",
   "execution_count": 16,
   "metadata": {},
   "outputs": [],
   "source": [
    "data = requests.get(\"https://www.darshan.ac.in/engineering/computer/faculty\")\n",
    "soap = bs4.BeautifulSoup(data.text,'html.parser')\n",
    "allfaculty = soap.select(\"body > main > div:nth-child(5) > div > div > div.col-lg-8.col-xl-9.g-font-size-14 > div > div\")"
   ]
  },
  {
   "cell_type": "code",
   "execution_count": 64,
   "metadata": {},
   "outputs": [
    {
     "name": "stdout",
     "output_type": "stream",
     "text": [
      "Dr. Gopi Sanghani - Dean - School of Computer Science - Ph.D. , M.E. (CE) - 22+ Years - Jul-2012\n",
      "Dr. Nilesh Gambhava - Professor - Ph.D. , M.E. (CE) - 19+ Years - Jul-2009\n",
      "Dr. Pradyumansinh Jadeja - Associate Professor - Ph.D., M.E. (CE) - 17+ Years - Jul-2009\n",
      "Prof. Maulik Trivedi - Assistant Professor - M.Tech. (CSE) - 14+ Years - Jun-2009\n",
      "Prof. Dixita Kagathara - Assistant Professor - M.Tech. (Web Technology) - 13+ Years - Jul-2009\n",
      "Prof. Rupesh Vaishnav - Assistant Professor - M.E. (CE) - 14+ Years - May-2013\n",
      "Prof. Swati Sharma - Assistant Professor - M.Tech. (CSE) - 14+ Years - May-2013\n",
      "Prof. Arjun Bala - Assistant Professor - M.Tech. (CSE) - 12+ Years - Jul-2013\n",
      "Prof. Mayur Padia - Assistant Professor - M.E. (CE) - 14+ Years - Jul-2011\n",
      "Prof. Vijay Shekhat - Assistant Professor - M.E. (CE) - 10+ Years - Jun-2012\n",
      "Prof. Naimish Vadodariya - Assistant Professor - M.E. (CE) - 9+ Years - Jun-2015\n",
      "Prof. UmeshKumar Thoriya - Assistant Professor - M.Tech. (CSE) - 9+ Years - Jul-2015\n",
      "Prof. Jayesh Vagadiya - Assistant Professor - M.E (CE) - 7+ Years - Jul-2015\n",
      "Prof. Krunal Vyas - Assistant Professor - M.Tech.(ICT), B.E. (EC) - 8+ Years - Jun-2018\n",
      "Prof. Jay Dhamsaniya - Assistant Professor - PG Diploma (Software Development), B.Tech. (E.C.) - 10+ Years - Jul-2012\n",
      "Prof. Mehul Bhundiya - Assistant Professor - BE (CE), ME (CE) - 8+ Years - Aug-2018\n",
      "Prof. Vaseem Ghada - Assistant Professor - M.Tech (ICT), B.E (IT) - 13+ Years - Aug-2021\n",
      "Prof. Hemang Chath - Assistant Professor - BE(CE), ME(CE - Pursuing) - 11+ Years - Sep-2021\n",
      "Prof. Charvin Kothia - Assistant Professor - B.E. (CE) - 2+ Years - Nov-2020\n",
      "Prof. Madhuresh Fichadiya - Assistant Professor - B.E.(CE) - 1+ Years - Jul-2021\n",
      "Prof. Vishal Kansagara - Assistant Professor - M. TECH. (ICT) - 8+ Years - Nov-2021\n",
      "Prof. Dharmik Vasiyani - Assistant Professor - ME(CE) - 5+ Years - Nov-2021\n",
      "Prof. Shruti Maniar - Assistant Professor - ME(CE),BE(IT) - 6+ Years - Dec-2021\n",
      "Prof. Bhushan Joshi - Assistant Professor - BE(EC), ME(EC Embedded Systems) - 5+ Years - Jun-2022\n",
      "Prof. Devangi Kotak - Assistant Professor - M. Tech(CS), BE(IT), Diploma I.T. - 13+ Years - Jul-2022\n",
      "Prof. Ekta Gevariya - Assistant Professor - ME(CE),B.Tech(IT) - 1+ Years - Jul-2022\n",
      "Prof. Dolly Doshi - Assistant Professor - ME(EC) - 3+ Years - Aug-2022\n",
      "Prof. KISHANKUMAR  JOGI - Assistant Professor - B.E.Electrical - 7+ Years - Aug-2022\n"
     ]
    }
   ],
   "source": [
    "\n",
    "for detail in allfaculty:\n",
    "    name = detail.select(\"h2\")[0].text.strip()\n",
    "    designation = detail.select(\"span\")[0].text.strip()\n",
    "    education = detail.select(\"span\")[1].text.strip()\n",
    "    experience = detail.select(\"span\")[3].text.strip()\n",
    "    working_since = detail.select(\"span\")[5].text.strip()\n",
    "\n",
    "\n",
    "    # print(working_since)\n",
    "    print(name, \"-\",designation, \"-\", education, \"-\", experience, \"-\", working_since)\n",
    "    "
   ]
  },
  {
   "cell_type": "code",
   "execution_count": 67,
   "metadata": {},
   "outputs": [],
   "source": [
    "df = pd.DataFrame({\n",
    "    'Faculty Name':[],\n",
    "    'Designation': [],\n",
    "    'education' : [],\n",
    "    'experience' : [],\n",
    "    'Working since' : [] \n",
    "\n",
    "})"
   ]
  },
  {
   "cell_type": "code",
   "execution_count": 68,
   "metadata": {},
   "outputs": [
    {
     "data": {
      "text/html": [
       "<div>\n",
       "<style scoped>\n",
       "    .dataframe tbody tr th:only-of-type {\n",
       "        vertical-align: middle;\n",
       "    }\n",
       "\n",
       "    .dataframe tbody tr th {\n",
       "        vertical-align: top;\n",
       "    }\n",
       "\n",
       "    .dataframe thead th {\n",
       "        text-align: right;\n",
       "    }\n",
       "</style>\n",
       "<table border=\"1\" class=\"dataframe\">\n",
       "  <thead>\n",
       "    <tr style=\"text-align: right;\">\n",
       "      <th></th>\n",
       "      <th>Faculty Name</th>\n",
       "      <th>Designation</th>\n",
       "      <th>education</th>\n",
       "      <th>experience</th>\n",
       "      <th>Working since</th>\n",
       "    </tr>\n",
       "  </thead>\n",
       "  <tbody>\n",
       "  </tbody>\n",
       "</table>\n",
       "</div>"
      ],
      "text/plain": [
       "Empty DataFrame\n",
       "Columns: [Faculty Name, Designation, education, experience, Working since]\n",
       "Index: []"
      ]
     },
     "execution_count": 68,
     "metadata": {},
     "output_type": "execute_result"
    }
   ],
   "source": [
    "df"
   ]
  }
 ],
 "metadata": {
  "kernelspec": {
   "display_name": "Python 3.9.13 64-bit",
   "language": "python",
   "name": "python3"
  },
  "language_info": {
   "codemirror_mode": {
    "name": "ipython",
    "version": 3
   },
   "file_extension": ".py",
   "mimetype": "text/x-python",
   "name": "python",
   "nbconvert_exporter": "python",
   "pygments_lexer": "ipython3",
   "version": "3.9.7"
  },
  "orig_nbformat": 4,
  "vscode": {
   "interpreter": {
    "hash": "244588f31c2a3ad07c22725603babad300eb2184cbcfe75a54eeec84a711f05a"
   }
  }
 },
 "nbformat": 4,
 "nbformat_minor": 2
}
