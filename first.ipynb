{
 "cells": [
  {
   "cell_type": "code",
   "execution_count": 11,
   "metadata": {},
   "outputs": [],
   "source": [
    "import requests\n",
    "import bs4\n",
    "import xml"
   ]
  },
  {
   "cell_type": "code",
   "execution_count": 16,
   "metadata": {},
   "outputs": [],
   "source": [
    "data = requests.get(\"https://www.darshan.ac.in/engineering/computer/faculty\")\n",
    "soap = bs4.BeautifulSoup(data.text,'html.parser')\n",
    "allfaculty = soap.select(\"body > main > div:nth-child(5) > div > div > div.col-lg-8.col-xl-9.g-font-size-14 > div > div\")"
   ]
  },
  {
   "cell_type": "code",
   "execution_count": 30,
   "metadata": {},
   "outputs": [
    {
     "name": "stdout",
     "output_type": "stream",
     "text": [
      "Dr. Gopi Sanghani\n",
      "Dean - School of Computer Science\n",
      "Dr. Nilesh Gambhava\n",
      "Professor\n",
      "Dr. Pradyumansinh Jadeja\n",
      "Associate Professor\n",
      "Prof. Maulik Trivedi\n",
      "Assistant Professor\n",
      "Prof. Dixita Kagathara\n",
      "Assistant Professor\n",
      "Prof. Rupesh Vaishnav\n",
      "Assistant Professor\n",
      "Prof. Swati Sharma\n",
      "Assistant Professor\n",
      "Prof. Arjun Bala\n",
      "Assistant Professor\n",
      "Prof. Mayur Padia\n",
      "Assistant Professor\n",
      "Prof. Vijay Shekhat\n",
      "Assistant Professor\n",
      "Prof. Naimish Vadodariya\n",
      "Assistant Professor\n",
      "Prof. UmeshKumar Thoriya\n",
      "Assistant Professor\n",
      "Prof. Jayesh Vagadiya\n",
      "Assistant Professor\n",
      "Prof. Krunal Vyas\n",
      "Assistant Professor\n",
      "Prof. Jay Dhamsaniya\n",
      "Assistant Professor\n",
      "Prof. Mehul Bhundiya\n",
      "Assistant Professor\n",
      "Prof. Vaseem Ghada\n",
      "Assistant Professor\n",
      "Prof. Hemang Chath\n",
      "Assistant Professor\n",
      "Prof. Charvin Kothia\n",
      "Assistant Professor\n",
      "Prof. Madhuresh Fichadiya\n",
      "Assistant Professor\n",
      "Prof. Vishal Kansagara\n",
      "Assistant Professor\n",
      "Prof. Dharmik Vasiyani\n",
      "Assistant Professor\n",
      "Prof. Shruti Maniar\n",
      "Assistant Professor\n",
      "Prof. Bhushan Joshi\n",
      "Assistant Professor\n",
      "Prof. Devangi Kotak\n",
      "Assistant Professor\n",
      "Prof. Ekta Gevariya\n",
      "Assistant Professor\n",
      "Prof. Dolly Doshi\n",
      "Assistant Professor\n",
      "Prof. KISHANKUMAR  JOGI\n",
      "Assistant Professor\n"
     ]
    }
   ],
   "source": [
    "for f in allfaculty:\n",
    "    name = f.select(\"h2\")[0].text.strip()\n",
    "    designation = f.select(\"span\")[0].text.strip()\n",
    "\n",
    "    print(name)\n",
    "    print(designation)"
   ]
  }
 ],
 "metadata": {
  "kernelspec": {
   "display_name": "Python 3.9.13 64-bit",
   "language": "python",
   "name": "python3"
  },
  "language_info": {
   "codemirror_mode": {
    "name": "ipython",
    "version": 3
   },
   "file_extension": ".py",
   "mimetype": "text/x-python",
   "name": "python",
   "nbconvert_exporter": "python",
   "pygments_lexer": "ipython3",
   "version": "3.9.7"
  },
  "orig_nbformat": 4,
  "vscode": {
   "interpreter": {
    "hash": "244588f31c2a3ad07c22725603babad300eb2184cbcfe75a54eeec84a711f05a"
   }
  }
 },
 "nbformat": 4,
 "nbformat_minor": 2
}
