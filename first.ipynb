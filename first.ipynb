{
 "cells": [
  {
   "cell_type": "code",
   "execution_count": null,
   "metadata": {},
   "outputs": [],
   "source": [
    "import requests\n",
    "import bs4\n",
    "import pandas as pd\n",
    "import numpy as np"
   ]
  },
  {
   "cell_type": "code",
   "execution_count": null,
   "metadata": {},
   "outputs": [],
   "source": [
    "data = requests.get(\"https://www.darshan.ac.in/engineering/computer/faculty\")\n",
    "soap = bs4.BeautifulSoup(data.text,'html.parser')\n",
    "allfaculty = soap.select(\"body > main > div:nth-child(5) > div > div > div.col-lg-8.col-xl-9.g-font-size-14 > div > div\")"
   ]
  },
  {
   "cell_type": "code",
   "execution_count": null,
   "metadata": {},
   "outputs": [],
   "source": [
    "\n",
    "name = []\n",
    "designation = []\n",
    "education = []\n",
    "experience = []\n",
    "working_since = []\n",
    "\n",
    "for detail in allfaculty:\n",
    "    name.append(detail.select(\"h2\")[0].text.strip())\n",
    "    designation.append(detail.select(\"span\")[0].text.strip())\n",
    "    education.append(detail.select(\"span\")[1].text.strip())\n",
    "    experience.append(detail.select(\"span\")[3].text.strip())\n",
    "    working_since.append(detail.select(\"span\")[5].text.strip())\n",
    "\n",
    "\n",
    "    # print(working_since)\n",
    "    # print(name, \"-\",designation, \"-\", education, \"-\", experience, \"-\", working_since)\n",
    "    "
   ]
  },
  {
   "cell_type": "code",
   "execution_count": null,
   "metadata": {},
   "outputs": [],
   "source": [
    "name"
   ]
  },
  {
   "cell_type": "code",
   "execution_count": null,
   "metadata": {},
   "outputs": [],
   "source": [
    "df = pd.DataFrame({\n",
    "    'Faculty Name':name,\n",
    "    'Designation': designation,\n",
    "    'Education' : education,\n",
    "    'Experience' : experience,\n",
    "    'Working since' : working_since \n",
    "\n",
    "})"
   ]
  },
  {
   "cell_type": "code",
   "execution_count": null,
   "metadata": {},
   "outputs": [],
   "source": [
    "df"
   ]
  }
 ],
 "metadata": {
  "kernelspec": {
   "display_name": "Python 3.9.13 64-bit",
   "language": "python",
   "name": "python3"
  },
  "language_info": {
   "codemirror_mode": {
    "name": "ipython",
    "version": 3
   },
   "file_extension": ".py",
   "mimetype": "text/x-python",
   "name": "python",
   "nbconvert_exporter": "python",
   "pygments_lexer": "ipython3",
   "version": "3.9.7"
  },
  "orig_nbformat": 4,
  "vscode": {
   "interpreter": {
    "hash": "244588f31c2a3ad07c22725603babad300eb2184cbcfe75a54eeec84a711f05a"
   }
  }
 },
 "nbformat": 4,
 "nbformat_minor": 2
}
